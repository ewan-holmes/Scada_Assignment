{
 "cells": [
  {
   "cell_type": "code",
   "execution_count": 1,
   "metadata": {},
   "outputs": [
    {
     "ename": "NameError",
     "evalue": "name 'blinkstick' is not defined",
     "output_type": "error",
     "traceback": [
      "\u001b[0;31m---------------------------------------------------------------------------\u001b[0m",
      "\u001b[0;31mNameError\u001b[0m                                 Traceback (most recent call last)",
      "\u001b[0;32m<ipython-input-1-efadf20bcc97>\u001b[0m in \u001b[0;36m<module>\u001b[0;34m\u001b[0m\n\u001b[1;32m      4\u001b[0m \u001b[0;34m\u001b[0m\u001b[0m\n\u001b[1;32m      5\u001b[0m \u001b[0;31m# find the first available blinkstick\u001b[0m\u001b[0;34m\u001b[0m\u001b[0;34m\u001b[0m\u001b[0;34m\u001b[0m\u001b[0m\n\u001b[0;32m----> 6\u001b[0;31m \u001b[0mbstick\u001b[0m \u001b[0;34m=\u001b[0m \u001b[0mblinkstick\u001b[0m\u001b[0;34m.\u001b[0m\u001b[0mfind_first\u001b[0m\u001b[0;34m(\u001b[0m\u001b[0;34m)\u001b[0m\u001b[0;34m\u001b[0m\u001b[0;34m\u001b[0m\u001b[0m\n\u001b[0m\u001b[1;32m      7\u001b[0m \u001b[0;34m\u001b[0m\u001b[0m\n\u001b[1;32m      8\u001b[0m \u001b[0;31m# Check we have found a blinkstick and if not print an error\u001b[0m\u001b[0;34m\u001b[0m\u001b[0;34m\u001b[0m\u001b[0;34m\u001b[0m\u001b[0m\n",
      "\u001b[0;31mNameError\u001b[0m: name 'blinkstick' is not defined"
     ]
    }
   ],
   "source": []
  },
  {
   "cell_type": "code",
   "execution_count": 1,
   "metadata": {},
   "outputs": [
    {
     "name": "stdout",
     "output_type": "stream",
     "text": [
      "Blinkstick #BS035220-3.0 is issued to Ewan Holmes (s1940521)\n"
     ]
    }
   ],
   "source": [
    "from blinkstick import blinkstick\n",
    "\n",
    "# set student name and Matric number\n",
    "NAME = \"Ewan Holmes\"\n",
    "MATRIC = \"s1940521\"\n",
    "\n",
    "# find the first available blinkstick\n",
    "bstick = blinkstick.find_first()\n",
    "\n",
    "# Check we have found a blinkstick and if not print an error\n",
    "if bstick is None:\n",
    "    print(\"The Blinkstick is not connected, either plug it in \" \\\n",
    "    +\" or check your USB cable supports data and power!\")\n",
    "else:\n",
    "    # a blinkstick has been found so we can continue to save \n",
    "    # data in the info blocks.\n",
    "    bstick.set_info_block1(NAME)\n",
    "    bstick.set_info_block2(MATRIC)\n",
    "\n",
    "    # now check it worked\n",
    "    print(\"Blinkstick #\"+bstick.get_serial() \\\n",
    "          +\" is issued to \"+ bstick.get_info_block1() \\\n",
    "          +\" (\"+bstick.get_info_block2()+\")\")"
   ]
  },
  {
   "cell_type": "code",
   "execution_count": null,
   "metadata": {},
   "outputs": [],
   "source": []
  }
 ],
 "metadata": {
  "kernelspec": {
   "display_name": "Python 3",
   "language": "python",
   "name": "python3"
  },
  "language_info": {
   "codemirror_mode": {
    "name": "ipython",
    "version": 3
   },
   "file_extension": ".py",
   "mimetype": "text/x-python",
   "name": "python",
   "nbconvert_exporter": "python",
   "pygments_lexer": "ipython3",
   "version": "3.8.3"
  }
 },
 "nbformat": 4,
 "nbformat_minor": 4
}
